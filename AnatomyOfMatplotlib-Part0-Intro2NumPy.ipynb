{
 "cells": [
  {
   "cell_type": "code",
   "execution_count": null,
   "metadata": {},
   "outputs": [],
   "source": [
    "# Let printing work the same in Python 2 and 3\n",
    "from __future__ import print_function"
   ]
  },
  {
   "cell_type": "markdown",
   "metadata": {},
   "source": [
    "# NumPy\n",
    "The NumPy package provides the \"ndarray\" object. The NumPy array is used to contain data of uniform type with an arbitrary number of dimensions. NumPy then provides basic mathematical and array methods to lay down the foundation for the entire SciPy ecosystem. The following import statement is the generally accepted convention for NumPy."
   ]
  },
  {
   "cell_type": "code",
   "execution_count": 1,
   "metadata": {},
   "outputs": [],
   "source": [
    "import numpy as np"
   ]
  },
  {
   "cell_type": "markdown",
   "metadata": {},
   "source": [
    "## Array Creation\n",
    "There are several ways to make NumPy arrays. An array has three particular attributes that can be queried: shape, size and the number of dimensions."
   ]
  },
  {
   "cell_type": "code",
   "execution_count": 2,
   "metadata": {},
   "outputs": [
    {
     "name": "stdout",
     "output_type": "stream",
     "text": [
      "(3,)\n",
      "3\n",
      "1\n"
     ]
    }
   ],
   "source": [
    "a = np.array([1, 2, 3])\n",
    "print(a.shape)\n",
    "print(a.size)\n",
    "print(a.ndim)"
   ]
  },
  {
   "cell_type": "code",
   "execution_count": 3,
   "metadata": {},
   "outputs": [
    {
     "name": "stdout",
     "output_type": "stream",
     "text": [
      "(100,)\n",
      "100\n",
      "1\n"
     ]
    }
   ],
   "source": [
    "x = np.arange(100)\n",
    "print(x.shape)\n",
    "print(x.size)\n",
    "print(x.ndim)"
   ]
  },
  {
   "cell_type": "code",
   "execution_count": 5,
   "metadata": {},
   "outputs": [
    {
     "name": "stdout",
     "output_type": "stream",
     "text": [
      "(5, 80)\n",
      "400\n",
      "2\n"
     ]
    }
   ],
   "source": [
    "y = np.random.rand(5, 80)\n",
    "# print(y)\n",
    "print(y.shape)\n",
    "print(y.size)\n",
    "print(y.ndim)"
   ]
  },
  {
   "cell_type": "markdown",
   "metadata": {},
   "source": [
    "## Array Manipulation\n",
    "How to change the shape of an array without a copy!"
   ]
  },
  {
   "cell_type": "code",
   "execution_count": 6,
   "metadata": {},
   "outputs": [
    {
     "name": "stdout",
     "output_type": "stream",
     "text": [
      "[[ 0  1  2  3  4]\n",
      " [ 5  6  7  8  9]\n",
      " [10 11 12 13 14]\n",
      " [15 16 17 18 19]\n",
      " [20 21 22 23 24]\n",
      " [25 26 27 28 29]\n",
      " [30 31 32 33 34]\n",
      " [35 36 37 38 39]\n",
      " [40 41 42 43 44]\n",
      " [45 46 47 48 49]\n",
      " [50 51 52 53 54]\n",
      " [55 56 57 58 59]\n",
      " [60 61 62 63 64]\n",
      " [65 66 67 68 69]\n",
      " [70 71 72 73 74]\n",
      " [75 76 77 78 79]\n",
      " [80 81 82 83 84]\n",
      " [85 86 87 88 89]\n",
      " [90 91 92 93 94]\n",
      " [95 96 97 98 99]]\n"
     ]
    }
   ],
   "source": [
    "x.shape = (20, 5)\n",
    "print(x)"
   ]
  },
  {
   "cell_type": "markdown",
   "metadata": {},
   "source": [
    "NumPy can even automatically figure out the size of at most one dimension for you."
   ]
  },
  {
   "cell_type": "code",
   "execution_count": 7,
   "metadata": {},
   "outputs": [
    {
     "name": "stdout",
     "output_type": "stream",
     "text": [
      "(4, 20, 5)\n"
     ]
    }
   ],
   "source": [
    "y.shape = (4, 20, -1)\n",
    "print(y.shape)"
   ]
  },
  {
   "cell_type": "code",
   "execution_count": 8,
   "metadata": {},
   "outputs": [
    {
     "name": "stdout",
     "output_type": "stream",
     "text": [
      "[[[5.04990453e-01 1.50213224e-01 7.12300965e-01 2.80148088e-02\n",
      "   5.96147594e-01]\n",
      "  [7.64785072e-02 4.09639794e-01 5.67251458e-01 1.17690655e-01\n",
      "   8.71357530e-01]\n",
      "  [3.07939995e-01 3.11225559e-02 5.16651843e-01 7.77819255e-01\n",
      "   3.08783384e-01]\n",
      "  [7.14952652e-03 9.96520337e-01 5.14230286e-01 9.50977060e-01\n",
      "   1.64356142e-01]\n",
      "  [3.62726312e-01 9.23032933e-01 6.26773093e-01 6.32392374e-01\n",
      "   1.38754838e-01]\n",
      "  [2.50838884e-01 4.00661137e-01 8.21395413e-01 7.79229622e-01\n",
      "   6.28271046e-01]\n",
      "  [7.66712131e-01 9.57541550e-01 7.32142188e-01 6.58358118e-01\n",
      "   5.11527834e-01]\n",
      "  [2.42147028e-02 1.63410695e-01 9.13446211e-01 3.49172968e-01\n",
      "   3.68703388e-01]\n",
      "  [6.99547088e-01 8.26668894e-01 4.06709571e-01 9.18829174e-01\n",
      "   9.99298051e-01]\n",
      "  [9.85295734e-01 5.54258260e-01 2.35769291e-01 3.55320905e-01\n",
      "   4.04084304e-01]\n",
      "  [8.50980041e-01 7.34426259e-01 3.54681630e-01 6.16811788e-01\n",
      "   3.35955272e-01]\n",
      "  [3.71984098e-01 9.68024771e-01 1.88761673e-01 3.85640887e-02\n",
      "   8.16496055e-02]\n",
      "  [3.71471135e-01 8.60943733e-01 4.13467776e-01 1.11026169e-01\n",
      "   5.11553281e-01]\n",
      "  [7.14016241e-01 5.77029029e-01 1.48163269e-01 9.03465353e-01\n",
      "   5.98523882e-01]\n",
      "  [5.60135736e-01 1.75621439e-01 6.99630411e-01 7.44874861e-01\n",
      "   2.55182608e-02]\n",
      "  [3.29073659e-01 9.53799186e-01 1.45858435e-01 9.20719836e-01\n",
      "   5.50481738e-01]\n",
      "  [6.13366078e-01 8.83411359e-01 9.71246761e-01 5.32062482e-01\n",
      "   4.68203297e-01]\n",
      "  [4.69940310e-01 7.21582245e-02 9.26501340e-01 3.29177002e-01\n",
      "   7.16099460e-01]\n",
      "  [3.83999844e-01 2.80387054e-02 3.37229905e-01 6.10891155e-01\n",
      "   2.09415667e-01]\n",
      "  [3.90303148e-01 2.02296385e-03 2.32757000e-01 7.65260446e-01\n",
      "   2.52202662e-01]]\n",
      "\n",
      " [[1.75534081e-01 7.24104098e-01 8.78657705e-01 3.63650228e-01\n",
      "   1.34830245e-01]\n",
      "  [4.01992424e-01 2.24094174e-01 4.54517613e-01 4.92923453e-01\n",
      "   1.63471323e-01]\n",
      "  [9.73189182e-01 1.90043514e-01 5.83825416e-01 9.36910148e-01\n",
      "   4.85946027e-02]\n",
      "  [6.52471863e-01 1.35003678e-01 3.12304132e-01 2.73978254e-01\n",
      "   1.75368739e-02]\n",
      "  [5.10070367e-01 6.20387084e-01 2.86333199e-01 8.34575714e-01\n",
      "   6.82937052e-01]\n",
      "  [7.35707073e-01 5.10527740e-01 4.71234043e-01 7.84176019e-01\n",
      "   4.24944954e-01]\n",
      "  [9.57493821e-01 7.74672430e-01 2.37032800e-01 9.03781688e-01\n",
      "   8.81699193e-01]\n",
      "  [3.42986675e-01 1.94108210e-01 4.46709527e-01 5.56686565e-01\n",
      "   8.75330063e-01]\n",
      "  [5.41592218e-01 7.65217819e-01 8.43899050e-01 3.68637237e-01\n",
      "   5.28840252e-01]\n",
      "  [8.90232921e-01 6.56628435e-01 6.75470887e-01 9.82201604e-01\n",
      "   1.98099965e-01]\n",
      "  [4.18483908e-01 7.79037403e-01 7.33468505e-01 5.84610977e-01\n",
      "   3.84766001e-01]\n",
      "  [6.19141003e-01 2.90327567e-01 8.90241516e-01 8.03775694e-01\n",
      "   9.28240987e-01]\n",
      "  [2.60341488e-01 8.90777359e-01 9.85231886e-01 5.86295072e-02\n",
      "   2.37943550e-01]\n",
      "  [6.37086709e-01 9.88670809e-01 6.46474488e-02 4.80879194e-01\n",
      "   2.58156486e-01]\n",
      "  [2.99813934e-01 3.54430464e-01 4.16651913e-01 4.87890984e-01\n",
      "   3.12161707e-01]\n",
      "  [5.81232403e-01 2.36773573e-02 8.93061216e-01 3.47780369e-01\n",
      "   1.17805021e-01]\n",
      "  [7.54972696e-01 8.84765542e-01 3.50333303e-02 4.92531185e-01\n",
      "   4.56492284e-01]\n",
      "  [3.90044869e-01 9.96792507e-01 6.14901740e-01 9.18144852e-01\n",
      "   2.14765707e-01]\n",
      "  [3.11373818e-01 2.14635992e-01 6.70925994e-01 1.49582744e-01\n",
      "   5.15920365e-01]\n",
      "  [5.38519965e-01 6.99702128e-01 1.81266477e-01 2.20260300e-02\n",
      "   5.52312989e-01]]\n",
      "\n",
      " [[4.56761334e-01 5.69263352e-01 7.22691577e-01 8.18173280e-01\n",
      "   2.23233811e-01]\n",
      "  [8.31563632e-01 3.83491533e-01 6.10277509e-01 7.03467089e-02\n",
      "   6.56871313e-01]\n",
      "  [9.37720502e-01 6.06719811e-01 5.71456842e-01 5.35748259e-01\n",
      "   1.39371288e-02]\n",
      "  [1.37158763e-01 8.01864916e-02 4.28207454e-01 4.95022642e-01\n",
      "   5.92233020e-02]\n",
      "  [5.21533849e-01 6.90604205e-01 5.66900177e-01 7.55753328e-01\n",
      "   8.46172123e-01]\n",
      "  [5.09918071e-01 9.85717037e-01 1.61543714e-01 8.08170762e-01\n",
      "   3.19881244e-01]\n",
      "  [3.99222545e-01 6.56908644e-01 3.58190376e-01 8.84527630e-01\n",
      "   7.39651364e-01]\n",
      "  [8.28725929e-01 6.36827152e-01 2.49064513e-01 1.84701110e-01\n",
      "   9.83694044e-03]\n",
      "  [9.96717664e-02 4.86815477e-01 2.46806730e-01 6.45643027e-01\n",
      "   3.02089258e-01]\n",
      "  [2.39556867e-03 1.19758064e-01 5.19422654e-01 1.12980466e-01\n",
      "   6.21144033e-01]\n",
      "  [3.33672665e-01 7.21297210e-01 7.48783328e-01 2.48352649e-01\n",
      "   6.13265134e-01]\n",
      "  [6.95039849e-01 6.92480127e-02 6.67729355e-01 1.10547598e-02\n",
      "   4.89245225e-01]\n",
      "  [9.13933422e-01 4.10997741e-01 6.23380880e-01 7.30798244e-01\n",
      "   1.43460058e-01]\n",
      "  [9.54981481e-01 2.03045711e-01 1.31735198e-01 5.77724735e-01\n",
      "   3.31598544e-01]\n",
      "  [4.67635294e-01 2.93915045e-02 6.20487610e-01 6.52593890e-01\n",
      "   7.91041632e-02]\n",
      "  [7.43026804e-01 5.85720450e-01 6.20146621e-01 5.61449692e-01\n",
      "   1.81365350e-01]\n",
      "  [9.91764980e-01 6.96021380e-01 1.34025884e-01 1.12330461e-01\n",
      "   4.54235099e-01]\n",
      "  [5.41211305e-01 5.97996680e-01 9.57844578e-01 4.66869292e-02\n",
      "   4.21274422e-01]\n",
      "  [6.40117155e-01 5.44962878e-01 3.70103298e-01 6.51639241e-01\n",
      "   8.10862978e-01]\n",
      "  [1.06816375e-01 3.09163007e-01 1.61039662e-01 4.18462081e-01\n",
      "   5.41843082e-01]]\n",
      "\n",
      " [[2.78798893e-01 2.53667421e-01 5.71758661e-02 2.21654365e-01\n",
      "   2.29126052e-01]\n",
      "  [6.53438749e-01 2.56112080e-01 6.58605061e-01 4.27402638e-01\n",
      "   1.44948541e-01]\n",
      "  [8.48691831e-01 5.59500382e-01 5.75541400e-01 8.60851998e-01\n",
      "   4.02493036e-03]\n",
      "  [9.84545659e-01 8.81717145e-02 1.54833022e-01 5.97885948e-01\n",
      "   9.48065942e-01]\n",
      "  [2.06690828e-01 9.01031532e-01 6.46294321e-01 2.42101571e-01\n",
      "   2.72315624e-01]\n",
      "  [1.63174459e-01 7.88054462e-01 6.02794392e-01 1.17273449e-01\n",
      "   9.81967390e-01]\n",
      "  [2.03005121e-01 6.69371902e-01 2.74031025e-01 5.71753372e-01\n",
      "   6.42372563e-01]\n",
      "  [4.46347844e-01 5.33652140e-02 1.48676536e-01 3.58128107e-01\n",
      "   8.77034955e-01]\n",
      "  [6.26647069e-02 8.22942894e-01 5.44646857e-01 3.18652088e-01\n",
      "   8.85757340e-01]\n",
      "  [8.63892452e-01 3.76623951e-02 1.67717741e-01 8.15155007e-01\n",
      "   4.81662633e-01]\n",
      "  [9.09549060e-01 3.23078176e-01 7.46511006e-01 3.53120337e-01\n",
      "   7.56225161e-01]\n",
      "  [3.31959638e-01 3.27536115e-01 6.69766098e-01 8.60733924e-01\n",
      "   3.74196825e-01]\n",
      "  [9.66984059e-01 1.29852702e-02 9.10833625e-01 4.75008181e-01\n",
      "   5.30643507e-01]\n",
      "  [1.14015629e-01 2.10631970e-01 4.80394574e-01 9.70169431e-01\n",
      "   4.38047436e-01]\n",
      "  [2.74738627e-02 7.86647144e-01 6.11535601e-01 2.36619659e-01\n",
      "   8.47540409e-01]\n",
      "  [5.91639171e-01 5.58984474e-01 6.60245982e-01 1.08818738e-01\n",
      "   8.59484689e-02]\n",
      "  [5.16122887e-01 4.60058734e-01 9.74789746e-01 3.35746024e-01\n",
      "   5.02296054e-01]\n",
      "  [7.05751715e-02 9.05151477e-04 5.06311476e-01 3.28412318e-01\n",
      "   8.12537906e-02]\n",
      "  [3.94608912e-01 2.92491827e-01 3.82811149e-01 6.20471281e-01\n",
      "   3.29967777e-01]\n",
      "  [3.32830269e-02 8.71281077e-01 4.96560649e-01 2.24403709e-01\n",
      "   1.93754694e-01]]]\n"
     ]
    }
   ],
   "source": [
    "print(y)"
   ]
  },
  {
   "cell_type": "markdown",
   "metadata": {},
   "source": [
    "## Array Indexing"
   ]
  },
  {
   "cell_type": "code",
   "execution_count": 9,
   "metadata": {},
   "outputs": [
    {
     "name": "stdout",
     "output_type": "stream",
     "text": [
      "[10 11 12 13 14]\n"
     ]
    }
   ],
   "source": [
    "# Scalar Indexing\n",
    "print(x[2])"
   ]
  },
  {
   "cell_type": "code",
   "execution_count": 10,
   "metadata": {},
   "outputs": [
    {
     "name": "stdout",
     "output_type": "stream",
     "text": [
      "[[10 11 12 13 14]\n",
      " [15 16 17 18 19]\n",
      " [20 21 22 23 24]]\n"
     ]
    }
   ],
   "source": [
    "# Slicing\n",
    "print(x[2:5])"
   ]
  },
  {
   "cell_type": "code",
   "execution_count": 11,
   "metadata": {},
   "outputs": [
    {
     "name": "stdout",
     "output_type": "stream",
     "text": [
      "[[ 0  1  2  3  4]\n",
      " [ 5  6  7  8  9]\n",
      " [10 11 12 13 14]\n",
      " [15 16 17 18 19]\n",
      " [20 21 22 23 24]\n",
      " [25 26 27 28 29]\n",
      " [30 31 32 33 34]\n",
      " [35 36 37 38 39]\n",
      " [40 41 42 43 44]\n",
      " [45 46 47 48 49]\n",
      " [50 51 52 53 54]\n",
      " [55 56 57 58 59]\n",
      " [60 61 62 63 64]\n",
      " [65 66 67 68 69]\n",
      " [70 71 72 73 74]\n",
      " [75 76 77 78 79]\n",
      " [80 81 82 83 84]\n",
      " [85 86 87 88 89]\n",
      " [90 91 92 93 94]\n",
      " [95 96 97 98 99]]\n"
     ]
    }
   ],
   "source": [
    "print(x)"
   ]
  },
  {
   "cell_type": "code",
   "execution_count": 12,
   "metadata": {},
   "outputs": [
    {
     "name": "stdout",
     "output_type": "stream",
     "text": [
      "First 5 rows\n",
      " [[ 0  1  2  3  4]\n",
      " [ 5  6  7  8  9]\n",
      " [10 11 12 13 14]\n",
      " [15 16 17 18 19]\n",
      " [20 21 22 23 24]]\n",
      "Row 18 to the end\n",
      " [[90 91 92 93 94]\n",
      " [95 96 97 98 99]]\n",
      "Last 5 rows\n",
      " [[75 76 77 78 79]\n",
      " [80 81 82 83 84]\n",
      " [85 86 87 88 89]\n",
      " [90 91 92 93 94]\n",
      " [95 96 97 98 99]]\n",
      "Reverse the rows\n",
      " [[95 96 97 98 99]\n",
      " [90 91 92 93 94]\n",
      " [85 86 87 88 89]\n",
      " [80 81 82 83 84]\n",
      " [75 76 77 78 79]\n",
      " [70 71 72 73 74]\n",
      " [65 66 67 68 69]\n",
      " [60 61 62 63 64]\n",
      " [55 56 57 58 59]\n",
      " [50 51 52 53 54]\n",
      " [45 46 47 48 49]\n",
      " [40 41 42 43 44]\n",
      " [35 36 37 38 39]\n",
      " [30 31 32 33 34]\n",
      " [25 26 27 28 29]\n",
      " [20 21 22 23 24]\n",
      " [15 16 17 18 19]\n",
      " [10 11 12 13 14]\n",
      " [ 5  6  7  8  9]\n",
      " [ 0  1  2  3  4]]\n"
     ]
    }
   ],
   "source": [
    "# Advanced slicing\n",
    "print(\"First 5 rows\\n\", x[:5])\n",
    "print(\"Row 18 to the end\\n\", x[18:])\n",
    "print(\"Last 5 rows\\n\", x[-5:])\n",
    "print(\"Reverse the rows\\n\", x[::-1])"
   ]
  },
  {
   "cell_type": "code",
   "execution_count": 14,
   "metadata": {},
   "outputs": [
    {
     "name": "stdout",
     "output_type": "stream",
     "text": [
      "[ 0  2  4  6  8 10 12 14 16 18 20 22 24 26 28 30 32 34 36 38 40 42 44 46\n",
      " 48 50 52 54 56 58 60 62 64 66 68 70 72 74 76 78 80 82 84 86 88 90 92 94\n",
      " 96 98]\n"
     ]
    }
   ],
   "source": [
    "# Boolean Indexing\n",
    "print(x[(x % 2) == 0])"
   ]
  },
  {
   "cell_type": "code",
   "execution_count": 15,
   "metadata": {},
   "outputs": [
    {
     "name": "stdout",
     "output_type": "stream",
     "text": [
      "[[ 5  6  7  8  9]\n",
      " [15 16 17 18 19]\n",
      " [40 41 42 43 44]\n",
      " [45 46 47 48 49]\n",
      " [10 11 12 13 14]]\n"
     ]
    }
   ],
   "source": [
    "# Fancy Indexing -- Note the use of a list, not tuple!\n",
    "print(x[[1, 3, 8, 9, 2]])"
   ]
  },
  {
   "cell_type": "markdown",
   "metadata": {},
   "source": [
    "## Broadcasting\n",
    "Broadcasting is a very useful feature of NumPy that will let arrays with differing shapes still be used together. In most cases, broadcasting is faster, and it is more memory efficient than the equivalent full array operation."
   ]
  },
  {
   "cell_type": "code",
   "execution_count": 16,
   "metadata": {},
   "outputs": [
    {
     "name": "stdout",
     "output_type": "stream",
     "text": [
      "Shape of X: (20, 5)\n",
      "Shape of Y: (4, 20, 5)\n"
     ]
    }
   ],
   "source": [
    "print(\"Shape of X:\", x.shape)\n",
    "print(\"Shape of Y:\", y.shape)"
   ]
  },
  {
   "cell_type": "markdown",
   "metadata": {},
   "source": [
    "Now, here are three identical assignments. The first one takes full advantage of broadcasting by allowing NumPy to automatically add a new dimension to the *left*. The second explicitly adds that dimension with the special NumPy alias \"np.newaxis\". These first two creates a singleton dimension without any new arrays being created. That singleton dimension is then implicitly tiled, much like the third example to match with the RHS of the addition operator. However, unlike the third example, the broadcasting merely re-uses the existing data in memory."
   ]
  },
  {
   "cell_type": "code",
   "execution_count": 18,
   "metadata": {},
   "outputs": [
    {
     "name": "stdout",
     "output_type": "stream",
     "text": [
      "(4, 20, 5)\n",
      "(4, 20, 5)\n",
      "(4, 20, 5)\n",
      "Are a and b identical? True\n",
      "Are a and c identical? True\n"
     ]
    }
   ],
   "source": [
    "a = x + y\n",
    "print(a.shape)\n",
    "b = x[np.newaxis, :, :] + y\n",
    "print(b.shape)\n",
    "c = np.tile(x, (4, 1, 1)) + y\n",
    "print(c.shape)\n",
    "print(\"Are a and b identical?\", np.all(a == b))\n",
    "print(\"Are a and c identical?\", np.all(a == c))"
   ]
  },
  {
   "cell_type": "code",
   "execution_count": null,
   "metadata": {},
   "outputs": [],
   "source": [
    "#https://www.geeksforgeeks.org/numpy-tile-python/"
   ]
  },
  {
   "cell_type": "code",
   "execution_count": 19,
   "metadata": {},
   "outputs": [
    {
     "name": "stdout",
     "output_type": "stream",
     "text": [
      "arr : \n",
      " [0 1 2 3 4]\n",
      "Repeating arr 2 times : \n",
      " [0 1 2 3 4 0 1 2 3 4]\n",
      "\n",
      "Repeating arr 3 times : \n",
      " [0 1 2 3 4 0 1 2 3 4 0 1 2 3 4]\n"
     ]
    }
   ],
   "source": [
    "# Python Program illustrating\n",
    "# numpy.tile()\n",
    "\n",
    "# import numpy as geek\n",
    "\n",
    "#Working on 1D\n",
    "arr = np.arange(5)\n",
    "print(\"arr : \\n\", arr)\n",
    "\n",
    "repetitions = 2\n",
    "print(\"Repeating arr 2 times : \\n\", np.tile(arr, repetitions))\n",
    "\n",
    "repetitions = 3\n",
    "print(\"\\nRepeating arr 3 times : \\n\", np.tile(arr, repetitions))\n",
    "# [0 1 2 ..., 2 3 4] means [0 1 2 3 4 0 1 2 3 4 0 1 2 3 4]\n",
    "# since it was long output, so it uses [ ... ]\n"
   ]
  },
  {
   "cell_type": "code",
   "execution_count": 20,
   "metadata": {},
   "outputs": [
    {
     "name": "stdout",
     "output_type": "stream",
     "text": [
      "arr : \n",
      " [0 1 2]\n",
      "\n",
      "Repeating arr : \n",
      " [[0 1 2 0 1 2]\n",
      " [0 1 2 0 1 2]]\n",
      "arr Shape : \n",
      " (2, 6)\n",
      "\n",
      "Repeating arr : \n",
      " [[0 1 2 0 1 2]\n",
      " [0 1 2 0 1 2]\n",
      " [0 1 2 0 1 2]]\n",
      "arr Shape : \n",
      " (3, 6)\n",
      "\n",
      "Repeating arr : \n",
      " [[0 1 2 0 1 2 0 1 2]\n",
      " [0 1 2 0 1 2 0 1 2]]\n",
      "arr Shape : \n",
      " (2, 9)\n"
     ]
    }
   ],
   "source": [
    "# Python Program illustrating\n",
    "# numpy.tile()\n",
    "\n",
    "# import numpy as geek\n",
    "\n",
    "arr = np.arange(3)\n",
    "print(\"arr : \\n\", arr)\n",
    "\n",
    "a = 2\n",
    "b = 2\n",
    "repetitions = (a, b)\n",
    "print(\"\\nRepeating arr : \\n\", np.tile(arr, repetitions))\n",
    "print(\"arr Shape : \\n\", np.tile(arr, repetitions).shape)\n",
    "\n",
    "a = 3\n",
    "b = 2\n",
    "repetitions = (a, b)\n",
    "print(\"\\nRepeating arr : \\n\", np.tile(arr, repetitions))\n",
    "print(\"arr Shape : \\n\", np.tile(arr, repetitions).shape)\n",
    "\n",
    "a = 2\n",
    "b = 3\n",
    "repetitions = (a, b)\n",
    "print(\"\\nRepeating arr : \\n\", np.tile(arr, repetitions))\n",
    "print(\"arr Shape : \\n\", np.tile(arr, repetitions).shape)\n"
   ]
  },
  {
   "cell_type": "code",
   "execution_count": 21,
   "metadata": {},
   "outputs": [
    {
     "name": "stdout",
     "output_type": "stream",
     "text": [
      "arr : \n",
      " [[0 1]\n",
      " [2 3]]\n",
      "\n",
      "Repeating arr : \n",
      " [[0 1]\n",
      " [2 3]\n",
      " [0 1]\n",
      " [2 3]]\n",
      "arr Shape : \n",
      " (4, 2)\n",
      "\n",
      "Repeating arr : \n",
      " [[0 1 0 1]\n",
      " [2 3 2 3]\n",
      " [0 1 0 1]\n",
      " [2 3 2 3]\n",
      " [0 1 0 1]\n",
      " [2 3 2 3]]\n",
      "arr Shape : \n",
      " (6, 4)\n",
      "\n",
      "Repeating arr : \n",
      " [[0 1 0 1 0 1]\n",
      " [2 3 2 3 2 3]\n",
      " [0 1 0 1 0 1]\n",
      " [2 3 2 3 2 3]]\n",
      "arr Shape : \n",
      " (4, 6)\n"
     ]
    }
   ],
   "source": [
    "# Python Program illustrating\n",
    "# numpy.tile()\n",
    "\n",
    "# import numpy as np\n",
    "\n",
    "arr = np.arange(4).reshape(2, 2)\n",
    "print(\"arr : \\n\", arr)\n",
    "\n",
    "a = 2\n",
    "b = 1\n",
    "repetitions = (a, b)\n",
    "print(\"\\nRepeating arr : \\n\", np.tile(arr, repetitions))\n",
    "print(\"arr Shape : \\n\", np.tile(arr, repetitions).shape)\n",
    "\n",
    "a = 3\n",
    "b = 2\n",
    "repetitions = (a, b)\n",
    "print(\"\\nRepeating arr : \\n\", np.tile(arr, repetitions))\n",
    "print(\"arr Shape : \\n\", np.tile(arr, repetitions).shape)\n",
    "\n",
    "a = 2\n",
    "b = 3\n",
    "repetitions = (a, b)\n",
    "print(\"\\nRepeating arr : \\n\", np.tile(arr, repetitions))\n",
    "print(\"arr Shape : \\n\", np.tile(arr, repetitions).shape)\n"
   ]
  },
  {
   "cell_type": "markdown",
   "metadata": {},
   "source": [
    "Another example of broadcasting two 1-D arrays to make a 2-D array."
   ]
  },
  {
   "cell_type": "code",
   "execution_count": 23,
   "metadata": {},
   "outputs": [
    {
     "name": "stdout",
     "output_type": "stream",
     "text": [
      "(100,) (64,)\n",
      "(64, 100)\n"
     ]
    }
   ],
   "source": [
    "x = np.arange(-5, 5, 0.1)\n",
    "y = np.arange(-8, 8, 0.25)\n",
    "print(x.shape, y.shape)\n",
    "z = x[np.newaxis, :] * y[:, np.newaxis]\n",
    "print(z.shape)"
   ]
  },
  {
   "cell_type": "code",
   "execution_count": 25,
   "metadata": {},
   "outputs": [
    {
     "name": "stdout",
     "output_type": "stream",
     "text": [
      "(1, 100)\n",
      "(64, 1)\n"
     ]
    }
   ],
   "source": [
    "print(x[np.newaxis, :].shape)\n",
    "print(y[:, np.newaxis].shape)\n"
   ]
  },
  {
   "cell_type": "code",
   "execution_count": 26,
   "metadata": {},
   "outputs": [
    {
     "name": "stdout",
     "output_type": "stream",
     "text": [
      "(1, 100) (64, 1)\n",
      "(64, 100)\n"
     ]
    }
   ],
   "source": [
    "# More concisely\n",
    "y, x = np.ogrid[-8:8:0.25, -5:5:0.1]\n",
    "print(x.shape, y.shape)\n",
    "z = x * y\n",
    "print(z.shape)"
   ]
  }
 ],
 "metadata": {
  "kernelspec": {
   "display_name": "Python 3 (ipykernel)",
   "language": "python",
   "name": "python3"
  },
  "language_info": {
   "codemirror_mode": {
    "name": "ipython",
    "version": 3
   },
   "file_extension": ".py",
   "mimetype": "text/x-python",
   "name": "python",
   "nbconvert_exporter": "python",
   "pygments_lexer": "ipython3",
   "version": "3.9.13"
  }
 },
 "nbformat": 4,
 "nbformat_minor": 1
}
